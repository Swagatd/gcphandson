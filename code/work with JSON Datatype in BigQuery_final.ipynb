{
 "cells": [
  {
   "cell_type": "markdown",
   "metadata": {},
   "source": [
    " Install the **pandas-gbq** library, which is a Pandas-based interface for working with Google BigQuery and other dependencies libraries."
   ]
  },
  {
   "cell_type": "code",
   "execution_count": null,
   "metadata": {},
   "outputs": [],
   "source": [
    "!pip install pandas-gbq\n",
    "!pip install pydata_google_auth\n",
    "!pip install --upgrade google-cloud-bigquery google-cloud-bigquery-storage"
   ]
  },
  {
   "cell_type": "markdown",
   "metadata": {},
   "source": [
    "To avoid printing any warning message on console"
   ]
  },
  {
   "cell_type": "code",
   "execution_count": 2,
   "metadata": {},
   "outputs": [],
   "source": [
    "import warnings\n",
    "\n",
    "warnings.filterwarnings(\"ignore\", category=UserWarning, module=\"google.cloud.bigquery._pandas_helpers\")\n"
   ]
  },
  {
   "cell_type": "markdown",
   "metadata": {},
   "source": [
    "Get GCP credentials and interact with Bigquery"
   ]
  },
  {
   "cell_type": "code",
   "execution_count": 1,
   "metadata": {},
   "outputs": [],
   "source": [
    "import pydata_google_auth\n",
    "credentials = pydata_google_auth.get_user_credentials(['https://www.googleapis.com/auth/bigquery'],)"
   ]
  },
  {
   "cell_type": "code",
   "execution_count": 3,
   "metadata": {},
   "outputs": [],
   "source": [
    "project_id = 'silicon-parity-396203'"
   ]
  },
  {
   "cell_type": "code",
   "execution_count": 5,
   "metadata": {},
   "outputs": [],
   "source": [
    "import pandas as pd\n",
    "pd.set_option('display.max_colwidth', None)"
   ]
  },
  {
   "cell_type": "code",
   "execution_count": 23,
   "metadata": {},
   "outputs": [
    {
     "name": "stdout",
     "output_type": "stream",
     "text": [
      "BigQuery error in load operation: Provided Schema does not match Table silicon-\n",
      "parity-396203:mydataset.table2. Cannot add fields (field: cart)\n",
      "Table silicon-parity-396203:mydataset.table2\n",
      "\n",
      "   Last modified        Schema        Total Rows   Total Bytes   Expiration   Time Partitioning   Clustered Fields   Total Logical Bytes   Total Physical Bytes   Labels  \n",
      " ----------------- ----------------- ------------ ------------- ------------ ------------------- ------------------ --------------------- ---------------------- -------- \n",
      "  18 Sep 11:48:39   |- name: string   3            227                                                               227                   1243                           \n",
      "                    |- items: json                                                                                                                                        \n",
      "\n"
     ]
    }
   ],
   "source": [
    "!bq load --source_format=NEWLINE_DELIMITED_JSON mydataset.table2 ip_file.jsonl name:STRING,cart:JSON\n",
    "!bq show mydataset.table2"
   ]
  },
  {
   "cell_type": "markdown",
   "metadata": {},
   "source": [
    "**How to Query JSON data**"
   ]
  },
  {
   "cell_type": "code",
   "execution_count": 24,
   "metadata": {},
   "outputs": [
    {
     "data": {
      "text/html": [
       "<div>\n",
       "<style scoped>\n",
       "    .dataframe tbody tr th:only-of-type {\n",
       "        vertical-align: middle;\n",
       "    }\n",
       "\n",
       "    .dataframe tbody tr th {\n",
       "        vertical-align: top;\n",
       "    }\n",
       "\n",
       "    .dataframe thead th {\n",
       "        text-align: right;\n",
       "    }\n",
       "</style>\n",
       "<table border=\"1\" class=\"dataframe\">\n",
       "  <thead>\n",
       "    <tr style=\"text-align: right;\">\n",
       "      <th></th>\n",
       "      <th>name</th>\n",
       "      <th>items</th>\n",
       "    </tr>\n",
       "  </thead>\n",
       "  <tbody>\n",
       "    <tr>\n",
       "      <th>0</th>\n",
       "      <td>Alice</td>\n",
       "      <td>[{\"price\":10,\"product\":\"book\"},{\"price\":5,\"product\":\"food\"}]</td>\n",
       "    </tr>\n",
       "    <tr>\n",
       "      <th>1</th>\n",
       "      <td>Bob</td>\n",
       "      <td>[{\"price\":2,\"product\":\"pen\"},{\"price\":20,\"product\":\"clothing\"}]</td>\n",
       "    </tr>\n",
       "    <tr>\n",
       "      <th>2</th>\n",
       "      <td>Charlie</td>\n",
       "      <td>[{\"price\":1000,\"product\":\"computer\"},{\"price\":50,\"product\":\"electronics\"}]</td>\n",
       "    </tr>\n",
       "  </tbody>\n",
       "</table>\n",
       "</div>"
      ],
      "text/plain": [
       "      name  \\\n",
       "0    Alice   \n",
       "1      Bob   \n",
       "2  Charlie   \n",
       "\n",
       "                                                                        items  \n",
       "0                [{\"price\":10,\"product\":\"book\"},{\"price\":5,\"product\":\"food\"}]  \n",
       "1             [{\"price\":2,\"product\":\"pen\"},{\"price\":20,\"product\":\"clothing\"}]  \n",
       "2  [{\"price\":1000,\"product\":\"computer\"},{\"price\":50,\"product\":\"electronics\"}]  "
      ]
     },
     "execution_count": 24,
     "metadata": {},
     "output_type": "execute_result"
    }
   ],
   "source": [
    "query = \"\"\"select * from mydataset.table2\"\"\"\n",
    "\n",
    "df = pd.read_gbq(query, project_id=project_id, dialect='standard', credentials=credentials)\n",
    "df"
   ]
  },
  {
   "cell_type": "markdown",
   "metadata": {},
   "source": [
    "Access the fields in a JSON expression by using the field access operator.\n",
    "\n",
    "To access an array element, use the JSON subscript operator"
   ]
  },
  {
   "cell_type": "code",
   "execution_count": 27,
   "metadata": {},
   "outputs": [
    {
     "data": {
      "text/html": [
       "<div>\n",
       "<style scoped>\n",
       "    .dataframe tbody tr th:only-of-type {\n",
       "        vertical-align: middle;\n",
       "    }\n",
       "\n",
       "    .dataframe tbody tr th {\n",
       "        vertical-align: top;\n",
       "    }\n",
       "\n",
       "    .dataframe thead th {\n",
       "        text-align: right;\n",
       "    }\n",
       "</style>\n",
       "<table border=\"1\" class=\"dataframe\">\n",
       "  <thead>\n",
       "    <tr style=\"text-align: right;\">\n",
       "      <th></th>\n",
       "      <th>name</th>\n",
       "      <th>first_item</th>\n",
       "    </tr>\n",
       "  </thead>\n",
       "  <tbody>\n",
       "    <tr>\n",
       "      <th>0</th>\n",
       "      <td>Alice</td>\n",
       "      <td>{\"price\":10,\"product\":\"book\"}</td>\n",
       "    </tr>\n",
       "    <tr>\n",
       "      <th>1</th>\n",
       "      <td>Bob</td>\n",
       "      <td>{\"price\":2,\"product\":\"pen\"}</td>\n",
       "    </tr>\n",
       "    <tr>\n",
       "      <th>2</th>\n",
       "      <td>Charlie</td>\n",
       "      <td>{\"price\":1000,\"product\":\"computer\"}</td>\n",
       "    </tr>\n",
       "  </tbody>\n",
       "</table>\n",
       "</div>"
      ],
      "text/plain": [
       "      name                           first_item\n",
       "0    Alice        {\"price\":10,\"product\":\"book\"}\n",
       "1      Bob          {\"price\":2,\"product\":\"pen\"}\n",
       "2  Charlie  {\"price\":1000,\"product\":\"computer\"}"
      ]
     },
     "execution_count": 27,
     "metadata": {},
     "output_type": "execute_result"
    }
   ],
   "source": [
    "query = \"\"\"SELECT name,items[0] as first_item FROM mydataset.table2;\"\"\"\n",
    "df = pd.read_gbq(query, project_id=project_id, dialect='standard', credentials=credentials)\n",
    "df"
   ]
  },
  {
   "cell_type": "code",
   "execution_count": 28,
   "metadata": {},
   "outputs": [
    {
     "data": {
      "text/html": [
       "<div>\n",
       "<style scoped>\n",
       "    .dataframe tbody tr th:only-of-type {\n",
       "        vertical-align: middle;\n",
       "    }\n",
       "\n",
       "    .dataframe tbody tr th {\n",
       "        vertical-align: top;\n",
       "    }\n",
       "\n",
       "    .dataframe thead th {\n",
       "        text-align: right;\n",
       "    }\n",
       "</style>\n",
       "<table border=\"1\" class=\"dataframe\">\n",
       "  <thead>\n",
       "    <tr style=\"text-align: right;\">\n",
       "      <th></th>\n",
       "      <th>name</th>\n",
       "      <th>first_item</th>\n",
       "    </tr>\n",
       "  </thead>\n",
       "  <tbody>\n",
       "    <tr>\n",
       "      <th>0</th>\n",
       "      <td>Alice</td>\n",
       "      <td>\"book\"</td>\n",
       "    </tr>\n",
       "    <tr>\n",
       "      <th>1</th>\n",
       "      <td>Bob</td>\n",
       "      <td>\"pen\"</td>\n",
       "    </tr>\n",
       "    <tr>\n",
       "      <th>2</th>\n",
       "      <td>Charlie</td>\n",
       "      <td>\"computer\"</td>\n",
       "    </tr>\n",
       "  </tbody>\n",
       "</table>\n",
       "</div>"
      ],
      "text/plain": [
       "      name  first_item\n",
       "0    Alice      \"book\"\n",
       "1      Bob       \"pen\"\n",
       "2  Charlie  \"computer\""
      ]
     },
     "execution_count": 28,
     "metadata": {},
     "output_type": "execute_result"
    }
   ],
   "source": [
    "query = \"\"\"SELECT name,items[0]['product'] as first_item FROM mydataset.table2;\"\"\"\n",
    "df = pd.read_gbq(query, project_id=project_id, dialect='standard', credentials=credentials)\n",
    "df"
   ]
  },
  {
   "cell_type": "markdown",
   "metadata": {},
   "source": [
    "JSON_QUERY: Extracts a JSON value, such as an array or object, or a scalar JSON-formatted value, such as a string, number, or boolean value.\n",
    "\n",
    "JSON_VALUE Extracts a scalar value. A scalar value can represent a string, a number, or a boolean value.\n",
    "\n",
    "JSON_EXTRACT: Extracts a JSON value, such as an array or object, or a scalar JSON-formatted value, such as a string, number, or boolean value.\n",
    "\n",
    "PARSE_JSON: Returns a JSON value for a JSON formatted string.\n",
    "\n",
    "TO_JSON: Returns a JSON value for an SQL value.\n",
    "\n",
    "TO_JSON_STRING: Accepts an SQL value and returns a JSON formatted string representation of the value."
   ]
  },
  {
   "cell_type": "code",
   "execution_count": 31,
   "metadata": {},
   "outputs": [
    {
     "data": {
      "text/html": [
       "<div>\n",
       "<style scoped>\n",
       "    .dataframe tbody tr th:only-of-type {\n",
       "        vertical-align: middle;\n",
       "    }\n",
       "\n",
       "    .dataframe tbody tr th {\n",
       "        vertical-align: top;\n",
       "    }\n",
       "\n",
       "    .dataframe thead th {\n",
       "        text-align: right;\n",
       "    }\n",
       "</style>\n",
       "<table border=\"1\" class=\"dataframe\">\n",
       "  <thead>\n",
       "    <tr style=\"text-align: right;\">\n",
       "      <th></th>\n",
       "      <th>name</th>\n",
       "      <th>first_item</th>\n",
       "    </tr>\n",
       "  </thead>\n",
       "  <tbody>\n",
       "    <tr>\n",
       "      <th>0</th>\n",
       "      <td>Alice</td>\n",
       "      <td>{\"price\":10,\"product\":\"book\"}</td>\n",
       "    </tr>\n",
       "  </tbody>\n",
       "</table>\n",
       "</div>"
      ],
      "text/plain": [
       "    name                     first_item\n",
       "0  Alice  {\"price\":10,\"product\":\"book\"}"
      ]
     },
     "execution_count": 31,
     "metadata": {},
     "output_type": "execute_result"
    }
   ],
   "source": [
    "query = \"\"\"SELECT name,items[0] as first_item FROM mydataset.table2\n",
    "where JSON_VALUE(items[0]['product']) = 'book';\"\"\"\n",
    "df = pd.read_gbq(query, project_id=project_id, dialect='standard', credentials=credentials)\n",
    "df"
   ]
  },
  {
   "cell_type": "markdown",
   "metadata": {},
   "source": [
    "JSON_QUERY_ARRAY: extracts an array and returns it as an ARRAY<JSON> of JSON.\n",
    "\n",
    "JSON_VALUE_ARRAY: extracts an array of scalar values and returns it as an ARRAY<STRING> of scalar values."
   ]
  },
  {
   "cell_type": "code",
   "execution_count": 37,
   "metadata": {},
   "outputs": [
    {
     "data": {
      "text/html": [
       "<div>\n",
       "<style scoped>\n",
       "    .dataframe tbody tr th:only-of-type {\n",
       "        vertical-align: middle;\n",
       "    }\n",
       "\n",
       "    .dataframe tbody tr th {\n",
       "        vertical-align: top;\n",
       "    }\n",
       "\n",
       "    .dataframe thead th {\n",
       "        text-align: right;\n",
       "    }\n",
       "</style>\n",
       "<table border=\"1\" class=\"dataframe\">\n",
       "  <thead>\n",
       "    <tr style=\"text-align: right;\">\n",
       "      <th></th>\n",
       "      <th>name</th>\n",
       "      <th>first_item</th>\n",
       "    </tr>\n",
       "  </thead>\n",
       "  <tbody>\n",
       "    <tr>\n",
       "      <th>0</th>\n",
       "      <td>Alice</td>\n",
       "      <td>[{\"price\":10,\"product\":\"book\"}, {\"price\":5,\"product\":\"food\"}]</td>\n",
       "    </tr>\n",
       "    <tr>\n",
       "      <th>1</th>\n",
       "      <td>Bob</td>\n",
       "      <td>[{\"price\":2,\"product\":\"pen\"}, {\"price\":20,\"product\":\"clothing\"}]</td>\n",
       "    </tr>\n",
       "    <tr>\n",
       "      <th>2</th>\n",
       "      <td>Charlie</td>\n",
       "      <td>[{\"price\":1000,\"product\":\"computer\"}, {\"price\":50,\"product\":\"electronics\"}]</td>\n",
       "    </tr>\n",
       "  </tbody>\n",
       "</table>\n",
       "</div>"
      ],
      "text/plain": [
       "      name  \\\n",
       "0    Alice   \n",
       "1      Bob   \n",
       "2  Charlie   \n",
       "\n",
       "                                                                    first_item  \n",
       "0                [{\"price\":10,\"product\":\"book\"}, {\"price\":5,\"product\":\"food\"}]  \n",
       "1             [{\"price\":2,\"product\":\"pen\"}, {\"price\":20,\"product\":\"clothing\"}]  \n",
       "2  [{\"price\":1000,\"product\":\"computer\"}, {\"price\":50,\"product\":\"electronics\"}]  "
      ]
     },
     "execution_count": 37,
     "metadata": {},
     "output_type": "execute_result"
    }
   ],
   "source": [
    "query = \"\"\"SELECT name,JSON_QUERY_ARRAY(items) as first_item FROM mydataset.table2;\"\"\"\n",
    "df = pd.read_gbq(query, project_id=project_id, dialect='standard', credentials=credentials)\n",
    "df"
   ]
  },
  {
   "cell_type": "code",
   "execution_count": 43,
   "metadata": {},
   "outputs": [
    {
     "data": {
      "text/html": [
       "<div>\n",
       "<style scoped>\n",
       "    .dataframe tbody tr th:only-of-type {\n",
       "        vertical-align: middle;\n",
       "    }\n",
       "\n",
       "    .dataframe tbody tr th {\n",
       "        vertical-align: top;\n",
       "    }\n",
       "\n",
       "    .dataframe thead th {\n",
       "        text-align: right;\n",
       "    }\n",
       "</style>\n",
       "<table border=\"1\" class=\"dataframe\">\n",
       "  <thead>\n",
       "    <tr style=\"text-align: right;\">\n",
       "      <th></th>\n",
       "      <th>name</th>\n",
       "      <th>all_product</th>\n",
       "      <th>all_price</th>\n",
       "    </tr>\n",
       "  </thead>\n",
       "  <tbody>\n",
       "    <tr>\n",
       "      <th>0</th>\n",
       "      <td>Alice</td>\n",
       "      <td>[book, food]</td>\n",
       "      <td>[10, 5]</td>\n",
       "    </tr>\n",
       "    <tr>\n",
       "      <th>1</th>\n",
       "      <td>Bob</td>\n",
       "      <td>[pen, clothing]</td>\n",
       "      <td>[2, 20]</td>\n",
       "    </tr>\n",
       "    <tr>\n",
       "      <th>2</th>\n",
       "      <td>Charlie</td>\n",
       "      <td>[computer, electronics]</td>\n",
       "      <td>[1000, 50]</td>\n",
       "    </tr>\n",
       "  </tbody>\n",
       "</table>\n",
       "</div>"
      ],
      "text/plain": [
       "      name              all_product   all_price\n",
       "0    Alice             [book, food]     [10, 5]\n",
       "1      Bob          [pen, clothing]     [2, 20]\n",
       "2  Charlie  [computer, electronics]  [1000, 50]"
      ]
     },
     "execution_count": 43,
     "metadata": {},
     "output_type": "execute_result"
    }
   ],
   "source": [
    "query = \"\"\"\n",
    "SELECT name, ARRAY_AGG(JSON_VALUE(item.product)) as all_product, ARRAY_AGG(JSON_VALUE(item.price)) as all_price \n",
    "FROM mydataset.table2 ,UNNEST(JSON_QUERY_ARRAY(items)) AS item\n",
    "group by name\n",
    "order by name\n",
    ";\"\"\"\n",
    "df = pd.read_gbq(query, project_id=project_id, dialect='standard', credentials=credentials)\n",
    "df"
   ]
  },
  {
   "cell_type": "code",
   "execution_count": 51,
   "metadata": {},
   "outputs": [
    {
     "data": {
      "text/html": [
       "<div>\n",
       "<style scoped>\n",
       "    .dataframe tbody tr th:only-of-type {\n",
       "        vertical-align: middle;\n",
       "    }\n",
       "\n",
       "    .dataframe tbody tr th {\n",
       "        vertical-align: top;\n",
       "    }\n",
       "\n",
       "    .dataframe thead th {\n",
       "        text-align: right;\n",
       "    }\n",
       "</style>\n",
       "<table border=\"1\" class=\"dataframe\">\n",
       "  <thead>\n",
       "    <tr style=\"text-align: right;\">\n",
       "      <th></th>\n",
       "      <th>product</th>\n",
       "      <th>json_price</th>\n",
       "      <th>json_value_price</th>\n",
       "    </tr>\n",
       "  </thead>\n",
       "  <tbody>\n",
       "    <tr>\n",
       "      <th>0</th>\n",
       "      <td>\"book\"</td>\n",
       "      <td>\"book\"</td>\n",
       "      <td>book</td>\n",
       "    </tr>\n",
       "    <tr>\n",
       "      <th>1</th>\n",
       "      <td>\"pen\"</td>\n",
       "      <td>\"pen\"</td>\n",
       "      <td>pen</td>\n",
       "    </tr>\n",
       "    <tr>\n",
       "      <th>2</th>\n",
       "      <td>\"computer\"</td>\n",
       "      <td>\"computer\"</td>\n",
       "      <td>computer</td>\n",
       "    </tr>\n",
       "  </tbody>\n",
       "</table>\n",
       "</div>"
      ],
      "text/plain": [
       "      product  json_price json_value_price\n",
       "0      \"book\"      \"book\"             book\n",
       "1       \"pen\"       \"pen\"              pen\n",
       "2  \"computer\"  \"computer\"         computer"
      ]
     },
     "execution_count": 51,
     "metadata": {},
     "output_type": "execute_result"
    }
   ],
   "source": [
    "query = \"\"\"SELECT items[0].product , JSON_QUERY(items[0],'$.product') as json_price ,JSON_VALUE(items[0],'$.product') as json_value_price FROM mydataset.table2;\"\"\"\n",
    "df = pd.read_gbq(query, project_id=project_id, dialect='standard', credentials=credentials)\n",
    "df"
   ]
  },
  {
   "cell_type": "code",
   "execution_count": 52,
   "metadata": {},
   "outputs": [
    {
     "data": {
      "text/html": [
       "<div>\n",
       "<style scoped>\n",
       "    .dataframe tbody tr th:only-of-type {\n",
       "        vertical-align: middle;\n",
       "    }\n",
       "\n",
       "    .dataframe tbody tr th {\n",
       "        vertical-align: top;\n",
       "    }\n",
       "\n",
       "    .dataframe thead th {\n",
       "        text-align: right;\n",
       "    }\n",
       "</style>\n",
       "<table border=\"1\" class=\"dataframe\">\n",
       "  <thead>\n",
       "    <tr style=\"text-align: right;\">\n",
       "      <th></th>\n",
       "      <th>id</th>\n",
       "      <th>cart</th>\n",
       "    </tr>\n",
       "  </thead>\n",
       "  <tbody>\n",
       "  </tbody>\n",
       "</table>\n",
       "</div>"
      ],
      "text/plain": [
       "Empty DataFrame\n",
       "Columns: [id, cart]\n",
       "Index: []"
      ]
     },
     "execution_count": 52,
     "metadata": {},
     "output_type": "execute_result"
    }
   ],
   "source": [
    "query = \"\"\"CREATE or Replace TABLE mydataset.table1(\n",
    "  id INT64,\n",
    "  cart JSON\n",
    ")\"\"\"\n",
    "\n",
    "df = pd.read_gbq(query, project_id=project_id, dialect='standard', credentials=credentials)\n",
    "df"
   ]
  },
  {
   "cell_type": "markdown",
   "metadata": {},
   "source": [
    "You can't partition or cluster a table on JSON columns\n",
    "\n",
    "![Alt text](image.png)"
   ]
  },
  {
   "cell_type": "code",
   "execution_count": 53,
   "metadata": {},
   "outputs": [
    {
     "data": {
      "text/html": [
       "<div>\n",
       "<style scoped>\n",
       "    .dataframe tbody tr th:only-of-type {\n",
       "        vertical-align: middle;\n",
       "    }\n",
       "\n",
       "    .dataframe tbody tr th {\n",
       "        vertical-align: top;\n",
       "    }\n",
       "\n",
       "    .dataframe thead th {\n",
       "        text-align: right;\n",
       "    }\n",
       "</style>\n",
       "<table border=\"1\" class=\"dataframe\">\n",
       "  <thead>\n",
       "    <tr style=\"text-align: right;\">\n",
       "      <th></th>\n",
       "      <th>id</th>\n",
       "      <th>cart</th>\n",
       "    </tr>\n",
       "  </thead>\n",
       "  <tbody>\n",
       "    <tr>\n",
       "      <th>0</th>\n",
       "      <td>3</td>\n",
       "      <td>{\"bar\":[\"a\",\"b\"],\"foo\":10}</td>\n",
       "    </tr>\n",
       "    <tr>\n",
       "      <th>1</th>\n",
       "      <td>2</td>\n",
       "      <td>[10,[\"foo\",\"bar\"],[20,30]]</td>\n",
       "    </tr>\n",
       "    <tr>\n",
       "      <th>2</th>\n",
       "      <td>1</td>\n",
       "      <td>{\"age\":30,\"name\":\"Alice\"}</td>\n",
       "    </tr>\n",
       "  </tbody>\n",
       "</table>\n",
       "</div>"
      ],
      "text/plain": [
       "   id                        cart\n",
       "0   3  {\"bar\":[\"a\",\"b\"],\"foo\":10}\n",
       "1   2  [10,[\"foo\",\"bar\"],[20,30]]\n",
       "2   1   {\"age\":30,\"name\":\"Alice\"}"
      ]
     },
     "execution_count": 53,
     "metadata": {},
     "output_type": "execute_result"
    }
   ],
   "source": [
    "query = \"\"\"INSERT INTO mydataset.table1 VALUES\n",
    "(1, JSON '{\"name\": \"Alice\", \"age\": 30}'),\n",
    "(2, JSON_ARRAY(10, ['foo', 'bar'], [20, 30])),\n",
    "(3, JSON_OBJECT('foo', 10, 'bar', ['a', 'b']))\"\"\"\n",
    "df = pd.read_gbq(query, project_id=project_id, dialect='standard', credentials=credentials)\n",
    "df"
   ]
  },
  {
   "cell_type": "code",
   "execution_count": 54,
   "metadata": {},
   "outputs": [
    {
     "data": {
      "text/html": [
       "<div>\n",
       "<style scoped>\n",
       "    .dataframe tbody tr th:only-of-type {\n",
       "        vertical-align: middle;\n",
       "    }\n",
       "\n",
       "    .dataframe tbody tr th {\n",
       "        vertical-align: top;\n",
       "    }\n",
       "\n",
       "    .dataframe thead th {\n",
       "        text-align: right;\n",
       "    }\n",
       "</style>\n",
       "<table border=\"1\" class=\"dataframe\">\n",
       "  <thead>\n",
       "    <tr style=\"text-align: right;\">\n",
       "      <th></th>\n",
       "      <th>json_data</th>\n",
       "    </tr>\n",
       "  </thead>\n",
       "  <tbody>\n",
       "    <tr>\n",
       "      <th>0</th>\n",
       "      <td>{\"color\":\"Red\",\"fruit\":\"apple\"}</td>\n",
       "    </tr>\n",
       "    <tr>\n",
       "      <th>1</th>\n",
       "      <td>{\"fruit\":\"banana\",\"ripe\":\"true\"}</td>\n",
       "    </tr>\n",
       "  </tbody>\n",
       "</table>\n",
       "</div>"
      ],
      "text/plain": [
       "                          json_data\n",
       "0   {\"color\":\"Red\",\"fruit\":\"apple\"}\n",
       "1  {\"fruit\":\"banana\",\"ripe\":\"true\"}"
      ]
     },
     "execution_count": 54,
     "metadata": {},
     "output_type": "execute_result"
    }
   ],
   "source": [
    "query = \"\"\"WITH Fruits AS (\n",
    "SELECT 0 AS id, 'color' AS k, 'Red' AS v UNION ALL\n",
    "SELECT 0, 'fruit', 'apple' UNION ALL\n",
    "SELECT 1, 'fruit','banana' UNION ALL\n",
    "SELECT 1, 'ripe', 'true'\n",
    ")\n",
    "\n",
    "SELECT JSON_OBJECT(ARRAY_AGG(k), ARRAY_AGG(v)) AS json_data\n",
    "FROM Fruits\n",
    "GROUP BY id\n",
    "\"\"\"\n",
    "df = pd.read_gbq(query, project_id=project_id, dialect='standard', credentials=credentials)\n",
    "df"
   ]
  },
  {
   "cell_type": "code",
   "execution_count": 56,
   "metadata": {},
   "outputs": [
    {
     "data": {
      "text/html": [
       "<div>\n",
       "<style scoped>\n",
       "    .dataframe tbody tr th:only-of-type {\n",
       "        vertical-align: middle;\n",
       "    }\n",
       "\n",
       "    .dataframe tbody tr th {\n",
       "        vertical-align: top;\n",
       "    }\n",
       "\n",
       "    .dataframe thead th {\n",
       "        text-align: right;\n",
       "    }\n",
       "</style>\n",
       "<table border=\"1\" class=\"dataframe\">\n",
       "  <thead>\n",
       "    <tr style=\"text-align: right;\">\n",
       "      <th></th>\n",
       "      <th>id</th>\n",
       "      <th>json_data</th>\n",
       "    </tr>\n",
       "  </thead>\n",
       "  <tbody>\n",
       "  </tbody>\n",
       "</table>\n",
       "</div>"
      ],
      "text/plain": [
       "Empty DataFrame\n",
       "Columns: [id, json_data]\n",
       "Index: []"
      ]
     },
     "execution_count": 56,
     "metadata": {},
     "output_type": "execute_result"
    }
   ],
   "source": [
    "query = \"\"\"CREATE or Replace TABLE mydataset.table1(\n",
    "  id INT64,\n",
    "  json_data JSON\n",
    ")\"\"\"\n",
    "df = pd.read_gbq(query, project_id=project_id, dialect='standard', credentials=credentials)\n",
    "df"
   ]
  },
  {
   "cell_type": "code",
   "execution_count": 57,
   "metadata": {},
   "outputs": [
    {
     "name": "stderr",
     "output_type": "stream",
     "text": [
      "\n",
      "Upload complete.\n",
      "\n",
      "Waiting on bqjob_r32b8736bed5caa92_0000018aa7f02ed6_1 ... (0s) Current status: RUNNING\n",
      "                                                                                      \n",
      "Waiting on bqjob_r32b8736bed5caa92_0000018aa7f02ed6_1 ... (0s) Current status: DONE   \n"
     ]
    }
   ],
   "source": [
    "!bq load --source_format=CSV mydataset.table1 input.csv id:INTEGER,json_data:JSON"
   ]
  },
  {
   "cell_type": "markdown",
   "metadata": {},
   "source": [
    "![Alt text](image-1.png)"
   ]
  },
  {
   "cell_type": "code",
   "execution_count": 62,
   "metadata": {},
   "outputs": [
    {
     "data": {
      "text/html": [
       "<div>\n",
       "<style scoped>\n",
       "    .dataframe tbody tr th:only-of-type {\n",
       "        vertical-align: middle;\n",
       "    }\n",
       "\n",
       "    .dataframe tbody tr th {\n",
       "        vertical-align: top;\n",
       "    }\n",
       "\n",
       "    .dataframe thead th {\n",
       "        text-align: right;\n",
       "    }\n",
       "</style>\n",
       "<table border=\"1\" class=\"dataframe\">\n",
       "  <thead>\n",
       "    <tr style=\"text-align: right;\">\n",
       "      <th></th>\n",
       "      <th>name</th>\n",
       "      <th>json_navigation_to_age</th>\n",
       "      <th>safe_int64_user_age</th>\n",
       "      <th>lax_user_age</th>\n",
       "    </tr>\n",
       "  </thead>\n",
       "  <tbody>\n",
       "    <tr>\n",
       "      <th>0</th>\n",
       "      <td>\"Alice\"</td>\n",
       "      <td>28</td>\n",
       "      <td>28</td>\n",
       "      <td>28</td>\n",
       "    </tr>\n",
       "    <tr>\n",
       "      <th>1</th>\n",
       "      <td>\"Bob\"</td>\n",
       "      <td>40</td>\n",
       "      <td>40</td>\n",
       "      <td>40</td>\n",
       "    </tr>\n",
       "    <tr>\n",
       "      <th>2</th>\n",
       "      <td>\"Avery\"</td>\n",
       "      <td>null</td>\n",
       "      <td>&lt;NA&gt;</td>\n",
       "      <td>&lt;NA&gt;</td>\n",
       "    </tr>\n",
       "  </tbody>\n",
       "</table>\n",
       "</div>"
      ],
      "text/plain": [
       "      name json_navigation_to_age  safe_int64_user_age  lax_user_age\n",
       "0  \"Alice\"                     28                   28            28\n",
       "1    \"Bob\"                     40                   40            40\n",
       "2  \"Avery\"                   null                 <NA>          <NA>"
      ]
     },
     "execution_count": 62,
     "metadata": {},
     "output_type": "execute_result"
    }
   ],
   "source": [
    "query = \"\"\"WITH A AS (\n",
    "  SELECT JSON '{\"name\": \"Alice\", \"age\": 28}' AS user UNION ALL\n",
    "  SELECT JSON '{\"name\": \"Bob\", \"age\": 40 }' UNION ALL\n",
    "  SELECT JSON '{\"name\": \"Avery\", \"age\": null}'\n",
    ")\n",
    "\n",
    "-- Table contents\n",
    "SELECT user.name, user.age AS json_navigation_to_age,\n",
    "-- INT64(user.age) AS int64_user_age,\n",
    "SAFE.INT64(user.age) AS safe_int64_user_age,\n",
    "LAX_INT64(user.age) AS lax_user_age\n",
    "FROM A;\"\"\"\n",
    "df = pd.read_gbq(query, project_id=project_id, dialect='standard', credentials=credentials)\n",
    "df"
   ]
  }
 ],
 "metadata": {
  "kernelspec": {
   "display_name": "Python 3",
   "language": "python",
   "name": "python3"
  },
  "language_info": {
   "codemirror_mode": {
    "name": "ipython",
    "version": 3
   },
   "file_extension": ".py",
   "mimetype": "text/x-python",
   "name": "python",
   "nbconvert_exporter": "python",
   "pygments_lexer": "ipython3",
   "version": "3.9.13"
  },
  "orig_nbformat": 4
 },
 "nbformat": 4,
 "nbformat_minor": 2
}
